{
 "cells": [
  {
   "cell_type": "markdown",
   "id": "dcf01400",
   "metadata": {},
   "source": [
    "**THỰC HÀNH LAB 1**"
   ]
  },
  {
   "cell_type": "markdown",
   "id": "ba3d2605",
   "metadata": {},
   "source": [
    "## 1.1 Biến đổi cường độ ảnh\n",
    "\n",
    "-Load ảnh cần xử lý từ file pagoda.jpg, sau đó dùng .convert(\"L\") để chuyển ảnh sang dạng grayscale (mức xám).\n",
    "-Chuyển ảnh sang mảng số (NumPy array), để xử lý các giá trị pixel dễ dàng hơn (mỗi điểm ảnh giờ là số từ 0–255).\n",
    "-Thực hiện phép đảo ảnh âm bản, bằng cách lấy 255 - pixel, giúp đảo ngược độ sáng: vùng sáng → tối, vùng tối → sáng.\n",
    "-Chuyển mảng về ảnh bình thường để hiển thị lại kết quả.\n",
    "-Cuối cùng, hiển thị ảnh gốc và ảnh sau xử lý để so sánh."
   ]
  },
  {
   "cell_type": "markdown",
   "id": "72cba8cc",
   "metadata": {},
   "source": [
    "## 1.2 Thay đổi chất lượng ảnh với Power law\n",
    "\n",
    "-Load ảnh pagoda.jpg, chuyển sang grayscale bằng .convert(\"L\").\n",
    "-Chuyển ảnh sang mảng số bằng np.asarray() để xử lý từng pixel.\n",
    "-Đặt giá trị gamma là 5, cho biết mức độ hiệu chỉnh ánh sáng.\n",
    "-Ép kiểu float để tính toán chính xác (tránh làm tròn sớm).\n",
    "-Chuẩn hóa pixel về khoảng [0, 1] bằng cách chia cho giá trị pixel lớn nhất.\n",
    "-Áp dụng logarit + gamma: np.log(b3) * gamma để làm nổi bật chi tiết ở vùng tối.\n",
    "-Khôi phục về không gian ảnh bằng exp() rồi nhân với 255 để chuyển về dạng 8-bit.\n",
    "-Giới hạn giá trị pixel trong khoảng 0–255 và ép kiểu uint8.\n",
    "-Hiển thị ảnh gốc và ảnh sau xử lý để so sánh."
   ]
  },
  {
   "cell_type": "markdown",
   "id": "c98184f1",
   "metadata": {},
   "source": [
    "## 1.3 Thay đổi cường độ ảnh với Log Transformation\n",
    "\n",
    "-Load ảnh pagoda.jpg và chuyển về grayscale với .convert('L').\n",
    "-ng mảng số (np.asarray) để xử lý các giá trị pixel.\n",
    "-Ép kiểu float để đảm bảo độ chính xác trong phép toán logarit.\n",
    "-Tìm giá trị pixel lớn nhất (np.max) để dùng làm chuẩn hóa.\n",
    "-Áp dụng phép biến đổi logarit theo công thức\n",
    "-nhằm nén dải động, làm nổi bật vùng tối và giảm độ sáng ở vùng sáng.\n",
    "-Giới hạn giá trị pixel về khoảng [0, 255] và chuyển về uint8.\n",
    "-Chuyển đổi về ảnh và hiển thị ảnh gốc + ảnh đã xử lý để so sánh."
   ]
  },
  {
   "cell_type": "markdown",
   "id": "966f8e9f",
   "metadata": {},
   "source": [
    "## 1.4 Histogram equalization\n",
    "\n",
    "Chuyển ảnh xám sang mảng và làm phẳng thành 1D (flatten).\n",
    "Tính histogram và hàm phân phối tích lũy (CDF).\n",
    "Chuẩn hóa CDF để giãn giá trị về [0, 255].\n",
    "Dùng CDF như bảng ánh xạ để tạo ảnh mới.\n",
    "Reshape về ảnh gốc và hiển thị kết quả."
   ]
  },
  {
   "cell_type": "markdown",
   "id": "fb8974bb",
   "metadata": {},
   "source": [
    "## 1.5 Thay đổi ảnh với Contrast Stretching\n",
    "Đọc ảnh xám và chuyển sang mảng.\n",
    "Tìm giá trị xám nhỏ nhất a và lớn nhất b.\n",
    "Chuẩn hoá các giá trị\n",
    "Chuyển ảnh về kiểu hiển thị và hiển thị ảnh trước–sau."
   ]
  },
  {
   "cell_type": "markdown",
   "id": "bd939ede",
   "metadata": {},
   "source": [
    "## 1.6 Biến đổi Fourier\n",
    "\n",
    "Mở ảnh grayscale và chuyển thành mảng số.\n",
    "Dùng fft2 để biến đổi ảnh sang miền tần số.\n",
    "Dùng fftshift để đưa tần số thấp về trung tâm ảnh phổ.\n",
    "Chuyển kết quả về float để hiển thị.\n",
    "Dùng Image.fromarray để tạo ảnh phổ.\n",
    "Hiển thị ảnh gốc và ảnh phổ tần số."
   ]
  },
  {
   "cell_type": "markdown",
   "id": "ca893e6b",
   "metadata": {},
   "source": [
    "## Butter Lowpass Filter\n",
    "\n",
    "Mở ảnh và chuyển sang ảnh xám.\n",
    "Dùng fft2 để chuyển ảnh sang miền tần số.\n",
    "Dùng fftshift đưa tần số thấp về giữa.\n",
    "Tạo bộ lọc Butterworth làm mờ tần số cao (lọc nhiễu, giữ chi tiết lớn).\n",
    "Nhân phổ ảnh với bộ lọc.\n",
    "Dùng ifft2 để chuyển ngược về ảnh không gian.\n",
    "Hiển thị ảnh sau khi lọc mượt."
   ]
  },
  {
   "cell_type": "markdown",
   "id": "e0eb46e7",
   "metadata": {},
   "source": [
    "## Butterworth highpass Filter\n",
    "\n",
    "Load ảnh xám từ file.\n",
    "Chuyển ảnh sang miền tần số bằng fft2, rồi dời tần số thấp về giữa bằng fftshift.\n",
    "Tạo bộ lọc Butterworth dạng lowpass (giữ tần số thấp, giảm nhiễu cao).\n",
    "Duyệt từng điểm, tính khoảng cách đến tâm ảnh, áp dụng công thức bộ lọc.\n",
    "Nhân phổ ảnh với bộ lọc để làm mờ tần số cao.\n",
    "Biến đổi ngược ifft2 về miền không gian.\n",
    "Hiển thị ảnh sau xử lý."
   ]
  },
  {
   "cell_type": "markdown",
   "id": "5aa293a5",
   "metadata": {},
   "source": [
    "## BÀI TẬP\n",
    "# 1. VIết chương trình tạo menu cho phép người dùng chọn các phương pháp biến đổi ảnh\n",
    "Khai báo các hàm biến đổi ảnh:\n",
    "    + inverse: Đảo ngược màu ảnh (255 - pixel).\n",
    "    + gamma_correction: Chỉnh gamma để điều chỉnh độ sáng ảnh.\n",
    "    + log_transform: Biến đổi log để tăng cường vùng tối.\n",
    "    + hist_equalization: Cân bằng histogram để cải thiện độ tương phản.\n",
    "    + contrast_stretch: Kéo giãn độ tương phản ảnh về toàn dải 0–255.\n",
    "Tạo mapping gán phím bấm (I, G, L, H, C) với tên phương pháp và hàm xử lý tương ứng.\n",
    "Nhận input từ người dùng để chọn phương pháp xử lý ảnh mong muốn.\n",
    "Kiểm tra phím nhập, nếu sai thì thoát chương trình.\n",
    "Duyệt tất cả ảnh trong thư mục exercise/:\n",
    "    + Load ảnh grayscale bằng OpenCV.\n",
    "    + Áp dụng phương pháp xử lý đã chọn.\n",
    "    + Lưu ảnh kết quả vào thư mục output_menu/ với tên mới.\n",
    "    + Hiển thị ảnh gốc và ảnh đã xử lý bằng PIL và matplotlib để tiện so sánh trực quan."
   ]
  }
 ],
 "metadata": {
  "language_info": {
   "name": "python"
  }
 },
 "nbformat": 4,
 "nbformat_minor": 5
}
